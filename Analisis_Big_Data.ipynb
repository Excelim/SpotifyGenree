{
  "nbformat": 4,
  "nbformat_minor": 0,
  "metadata": {
    "colab": {
      "provenance": []
    },
    "kernelspec": {
      "name": "python3",
      "display_name": "Python 3"
    },
    "language_info": {
      "name": "python"
    }
  },
  "cells": [
    {
      "cell_type": "markdown",
      "source": [
        "Excel Bima Evansyah 202110370311006\n",
        "\n",
        "Muhammad Daffa 202110370311047"
      ],
      "metadata": {
        "id": "XtS74mymj3Q7"
      }
    },
    {
      "cell_type": "markdown",
      "source": [
        "#Pendahuluan"
      ],
      "metadata": {
        "id": "lBx1dfV2gRmu"
      }
    },
    {
      "cell_type": "markdown",
      "source": [
        "**Pengantar: Mengapa Analisis Ini Penting?**\n",
        "\n",
        "Musik memainkan peran besar dalam kehidupan sehari-hari, dan dengan platform streaming seperti Spotify, perilaku mendengarkan musik semakin terdata. Hal ini memungkinkan kita untuk memahami preferensi pengguna, namun dengan jutaan lagu yang tersedia, bagaimana cara menemukan musik yang relevan?\n",
        "\n",
        "**Rencana: Bagaimana Kita Mengatasi Masalah Ini?**\n",
        "\n",
        "Proyek ini bertujuan untuk mengeksplorasi pola dalam dataset Spotify guna memahami elemen yang membuat lagu populer. Wawasan ini berguna untuk membangun rekomendasi musik yang lebih personal dan mengoptimalkan playlist.\n",
        "\n",
        "**2** **Dataset yang Digunakan:**\n",
        "Dataset ini mencakup informasi tentang lagu-lagu Spotify, seperti tempo, energy, danceability, genre, dan artis.\n",
        "\n",
        "**Langkah-Langkah:**\n",
        "1. **Pembersihan Data:** Menangani nilai hilang dan data tidak valid.\n",
        "2. **Eksplorasi Awal:** Statistik deskriptif dan visualisasi distribusi variabel.\n",
        "3. **Analisis Pola dan Tren:** Memeriksa hubungan antar variabel dan membandingkan popularitas berdasarkan genre/artis/tahun.\n",
        "4. **Clustering atau Segmentasi:** Mengidentifikasi grup lagu atau pengguna berdasarkan fitur audio.\n",
        "5. **Rekomendasi Musik (Opsional):** Memberikan rekomendasi berbasis fitur.\n",
        "\n",
        "**Pendekatan yang Digunakan:**\n",
        "- **Statistik Deskriptif:** Menilai distribusi variabel.\n",
        "- **Visualisasi Data:** Heatmaps, scatter plots, dan histogram.\n",
        "- **Model Machine Learning (Opsional):** Clustering (K-Means) dan regresi untuk memprediksi popularitas.\n",
        "- **Analisis Tren Waktu:** Memeriksa perubahan karakteristik lagu populer.\n",
        "\n",
        "**Manfaat Analisis:**\n",
        "- **Pendengar Musik:** Menemukan musik baru dan relevan.\n",
        "- **Artis dan Industri Musik:** Wawasan untuk strategi pemasaran.\n",
        "- **Platform Streaming:** Mengoptimalkan algoritma rekomendasi.\n",
        "\n",
        "**Kesimpulan:**  \n",
        "Analisis ini memberikan wawasan berbasis data untuk memahami pola konsumsi musik, yang dapat membantu berbagai pihak dalam pengambilan keputusan.\n"
      ],
      "metadata": {
        "id": "BouL71WcXOO8"
      }
    },
    {
      "cell_type": "markdown",
      "source": [
        "#Package yang diperlukan"
      ],
      "metadata": {
        "id": "aGmkFT1rbTme"
      }
    },
    {
      "cell_type": "code",
      "execution_count": 4,
      "metadata": {
        "id": "lw9vcV1wUqW9"
      },
      "outputs": [],
      "source": [
        "import pandas as pd\n",
        "import requests\n",
        "import zipfile\n",
        "import os\n",
        "import io\n",
        "import numpy as np\n",
        "import pandas as pd\n",
        "import matplotlib.pyplot as plt\n",
        "import seaborn as sns"
      ]
    },
    {
      "cell_type": "markdown",
      "source": [
        "#Data Preparation"
      ],
      "metadata": {
        "id": "CacWc9mHbmMf"
      }
    },
    {
      "cell_type": "markdown",
      "source": [
        "3.1 **Sumber Asli Data**  \n",
        "Dataset ini diperoleh dari [Dropbox](https://www.dropbox.com/sh/qj0ueimxot3ltbf/AACzMOHv7sZCJsj3ErjtOG7ya?dl=0). Data ini berisi informasi tentang lagu-lagu Spotify yang mencakup metadata seperti nama lagu, artis, album, popularitas, serta fitur audio.  \n",
        "\n",
        "Dataset ini digunakan dalam analisis data musik untuk memahami pola konsumsi musik dan karakteristik audio berdasarkan popularitas lagu di berbagai genre dan subgenre."
      ],
      "metadata": {
        "id": "BJt5ix56ITid"
      }
    },
    {
      "cell_type": "markdown",
      "source": [
        "**3.2 Data Sumber Dijelaskan Secara Menyeluruh**\n",
        "\n",
        "Dataset ini berisi informasi tentang lagu-lagu yang ada di Spotify. Data ini digunakan untuk analisis musik, mempelajari berbagai fitur dari lagu-lagu yang diputar di platform streaming Spotify, dan mungkin untuk analisis yang lebih mendalam seperti prediksi popularitas lagu atau rekomendasi.\n",
        "\n",
        "Tujuan Awal Data: Dataset ini mungkin dikumpulkan untuk memberikan wawasan tentang karakteristik lagu yang tersedia di Spotify, termasuk popularitas, genre, dan fitur audio. Data ini dikumpulkan pada tahun 2019 berdasarkan tanggal yang tercantum pada kolom track_album_release_date.\n"
      ],
      "metadata": {
        "id": "gHR9ZxpDXyVu"
      }
    },
    {
      "cell_type": "markdown",
      "source": [
        "**3.3 Pengimporan Data dan Pembersihan Data**\n",
        "\n"
      ],
      "metadata": {
        "id": "KCO2EkyLIriP"
      }
    },
    {
      "cell_type": "markdown",
      "source": [
        "Dataset diunduh langsung dari url yang diberikan, setelah data diunduh dalam bentuk file zip akan diekstrak dan disimpan pada file yang ditentukan. Setelah proses selesai data dikonversi menjadi file csv menjadi DataFrame"
      ],
      "metadata": {
        "id": "YTgcsTToZNc0"
      }
    },
    {
      "cell_type": "code",
      "source": [
        "# URL file Dropbox\n",
        "url = \"https://www.dropbox.com/sh/qj0ueimxot3ltbf/AACzMOHv7sZCJsj3ErjtOG7ya?dl=1\"\n",
        "\n",
        "# Mengunduh file ZIP dari URL\n",
        "zip_content = requests.get(url).content\n",
        "\n",
        "# Menyimpan dan mengekstrak file ZIP\n",
        "with open(\"dataset.zip\", \"wb\") as f:\n",
        "    f.write(zip_content)\n",
        "\n",
        "with zipfile.ZipFile(\"dataset.zip\", \"r\") as zip_ref:\n",
        "    zip_ref.extractall(\"dataset_folder\")\n",
        "\n",
        "# Membaca file CSV dari folder yang diekstrak (ubah nama file sesuai file di dalam ZIP)\n",
        "data = pd.read_csv(\"dataset_folder/spotify_songs.csv\")"
      ],
      "metadata": {
        "id": "u5d5wBIXV2SQ"
      },
      "execution_count": 5,
      "outputs": []
    },
    {
      "cell_type": "markdown",
      "source": [
        "**Menampilkan Dataset yang telah diunduh**"
      ],
      "metadata": {
        "id": "QefvdYm_MtU8"
      }
    },
    {
      "cell_type": "code",
      "source": [
        "display(data)"
      ],
      "metadata": {
        "colab": {
          "base_uri": "https://localhost:8080/",
          "height": 947
        },
        "id": "Gv8j1pigWF_1",
        "outputId": "66ba4317-6372-4bfc-df65-1b6ca75b0500"
      },
      "execution_count": 6,
      "outputs": [
        {
          "output_type": "display_data",
          "data": {
            "text/plain": [
              "                     track_id  \\\n",
              "0      6f807x0ima9a1j3VPbc7VN   \n",
              "1      0r7CVbZTWZgbTCYdfa2P31   \n",
              "2      1z1Hg7Vb0AhHDiEmnDE79l   \n",
              "3      75FpbthrwQmzHlBJLuGdC7   \n",
              "4      1e8PAfcKUYoKkxPhrHqw4x   \n",
              "...                       ...   \n",
              "32828  7bxnKAamR3snQ1VGLuVfC1   \n",
              "32829  5Aevni09Em4575077nkWHz   \n",
              "32830  7ImMqPP3Q1yfUHvsdn7wEo   \n",
              "32831  2m69mhnfQ1Oq6lGtXuYhgX   \n",
              "32832  29zWqhca3zt5NsckZqDf6c   \n",
              "\n",
              "                                              track_name      track_artist  \\\n",
              "0      I Don't Care (with Justin Bieber) - Loud Luxur...        Ed Sheeran   \n",
              "1                        Memories - Dillon Francis Remix          Maroon 5   \n",
              "2                        All the Time - Don Diablo Remix      Zara Larsson   \n",
              "3                      Call You Mine - Keanu Silva Remix  The Chainsmokers   \n",
              "4                Someone You Loved - Future Humans Remix     Lewis Capaldi   \n",
              "...                                                  ...               ...   \n",
              "32828               City Of Lights - Official Radio Edit      Lush & Simon   \n",
              "32829                Closer - Sultan & Ned Shepard Remix    Tegan and Sara   \n",
              "32830                       Sweet Surrender - Radio Edit       Starkillers   \n",
              "32831                     Only For You - Maor Levi Remix            Mat Zo   \n",
              "32832                             Typhoon - Original Mix      Julian Calor   \n",
              "\n",
              "       track_popularity          track_album_id  \\\n",
              "0                    66  2oCs0DGTsRO98Gh5ZSl2Cx   \n",
              "1                    67  63rPSO264uRjW1X5E6cWv6   \n",
              "2                    70  1HoSmj2eLcsrR0vE9gThr4   \n",
              "3                    60  1nqYsOef1yKKuGOVchbsk6   \n",
              "4                    69  7m7vv9wlQ4i0LFuJiE2zsQ   \n",
              "...                 ...                     ...   \n",
              "32828                42  2azRoBBWEEEYhqV6sb7JrT   \n",
              "32829                20  6kD6KLxj7s8eCE3ABvAyf5   \n",
              "32830                14  0ltWNSY9JgxoIZO4VzuCa6   \n",
              "32831                15  1fGrOkHnHJcStl14zNx8Jy   \n",
              "32832                27  0X3mUOm6MhxR7PzxG95rAo   \n",
              "\n",
              "                                        track_album_name  \\\n",
              "0      I Don't Care (with Justin Bieber) [Loud Luxury...   \n",
              "1                        Memories (Dillon Francis Remix)   \n",
              "2                        All the Time (Don Diablo Remix)   \n",
              "3                            Call You Mine - The Remixes   \n",
              "4                Someone You Loved (Future Humans Remix)   \n",
              "...                                                  ...   \n",
              "32828                         City Of Lights (Vocal Mix)   \n",
              "32829                                     Closer Remixed   \n",
              "32830                       Sweet Surrender (Radio Edit)   \n",
              "32831                             Only For You (Remixes)   \n",
              "32832                                      Typhoon/Storm   \n",
              "\n",
              "      track_album_release_date    playlist_name             playlist_id  \\\n",
              "0                   2019-06-14        Pop Remix  37i9dQZF1DXcZDD7cfEKhW   \n",
              "1                   2019-12-13        Pop Remix  37i9dQZF1DXcZDD7cfEKhW   \n",
              "2                   2019-07-05        Pop Remix  37i9dQZF1DXcZDD7cfEKhW   \n",
              "3                   2019-07-19        Pop Remix  37i9dQZF1DXcZDD7cfEKhW   \n",
              "4                   2019-03-05        Pop Remix  37i9dQZF1DXcZDD7cfEKhW   \n",
              "...                        ...              ...                     ...   \n",
              "32828               2014-04-28  ♥ EDM LOVE 2020  6jI1gFr6ANFtT8MmTvA2Ux   \n",
              "32829               2013-03-08  ♥ EDM LOVE 2020  6jI1gFr6ANFtT8MmTvA2Ux   \n",
              "32830               2014-04-21  ♥ EDM LOVE 2020  6jI1gFr6ANFtT8MmTvA2Ux   \n",
              "32831               2014-01-01  ♥ EDM LOVE 2020  6jI1gFr6ANFtT8MmTvA2Ux   \n",
              "32832               2014-03-03  ♥ EDM LOVE 2020  6jI1gFr6ANFtT8MmTvA2Ux   \n",
              "\n",
              "      playlist_genre  ... key  loudness  mode  speechiness  acousticness  \\\n",
              "0                pop  ...   6    -2.634     1       0.0583      0.102000   \n",
              "1                pop  ...  11    -4.969     1       0.0373      0.072400   \n",
              "2                pop  ...   1    -3.432     0       0.0742      0.079400   \n",
              "3                pop  ...   7    -3.778     1       0.1020      0.028700   \n",
              "4                pop  ...   1    -4.672     1       0.0359      0.080300   \n",
              "...              ...  ...  ..       ...   ...          ...           ...   \n",
              "32828            edm  ...   2    -1.814     1       0.0936      0.076600   \n",
              "32829            edm  ...   0    -4.462     1       0.0420      0.001710   \n",
              "32830            edm  ...   6    -4.899     0       0.0481      0.108000   \n",
              "32831            edm  ...   2    -3.361     1       0.1090      0.007920   \n",
              "32832            edm  ...   5    -4.571     0       0.0385      0.000133   \n",
              "\n",
              "       instrumentalness  liveness  valence    tempo  duration_ms  \n",
              "0              0.000000    0.0653   0.5180  122.036       194754  \n",
              "1              0.004210    0.3570   0.6930   99.972       162600  \n",
              "2              0.000023    0.1100   0.6130  124.008       176616  \n",
              "3              0.000009    0.2040   0.2770  121.956       169093  \n",
              "4              0.000000    0.0833   0.7250  123.976       189052  \n",
              "...                 ...       ...      ...      ...          ...  \n",
              "32828          0.000000    0.0668   0.2100  128.170       204375  \n",
              "32829          0.004270    0.3750   0.4000  128.041       353120  \n",
              "32830          0.000001    0.1500   0.4360  127.989       210112  \n",
              "32831          0.127000    0.3430   0.3080  128.008       367432  \n",
              "32832          0.341000    0.7420   0.0894  127.984       337500  \n",
              "\n",
              "[32833 rows x 23 columns]"
            ],
            "text/html": [
              "\n",
              "  <div id=\"df-0f25b8b8-8315-490f-9b90-85bdd645fc01\" class=\"colab-df-container\">\n",
              "    <div>\n",
              "<style scoped>\n",
              "    .dataframe tbody tr th:only-of-type {\n",
              "        vertical-align: middle;\n",
              "    }\n",
              "\n",
              "    .dataframe tbody tr th {\n",
              "        vertical-align: top;\n",
              "    }\n",
              "\n",
              "    .dataframe thead th {\n",
              "        text-align: right;\n",
              "    }\n",
              "</style>\n",
              "<table border=\"1\" class=\"dataframe\">\n",
              "  <thead>\n",
              "    <tr style=\"text-align: right;\">\n",
              "      <th></th>\n",
              "      <th>track_id</th>\n",
              "      <th>track_name</th>\n",
              "      <th>track_artist</th>\n",
              "      <th>track_popularity</th>\n",
              "      <th>track_album_id</th>\n",
              "      <th>track_album_name</th>\n",
              "      <th>track_album_release_date</th>\n",
              "      <th>playlist_name</th>\n",
              "      <th>playlist_id</th>\n",
              "      <th>playlist_genre</th>\n",
              "      <th>...</th>\n",
              "      <th>key</th>\n",
              "      <th>loudness</th>\n",
              "      <th>mode</th>\n",
              "      <th>speechiness</th>\n",
              "      <th>acousticness</th>\n",
              "      <th>instrumentalness</th>\n",
              "      <th>liveness</th>\n",
              "      <th>valence</th>\n",
              "      <th>tempo</th>\n",
              "      <th>duration_ms</th>\n",
              "    </tr>\n",
              "  </thead>\n",
              "  <tbody>\n",
              "    <tr>\n",
              "      <th>0</th>\n",
              "      <td>6f807x0ima9a1j3VPbc7VN</td>\n",
              "      <td>I Don't Care (with Justin Bieber) - Loud Luxur...</td>\n",
              "      <td>Ed Sheeran</td>\n",
              "      <td>66</td>\n",
              "      <td>2oCs0DGTsRO98Gh5ZSl2Cx</td>\n",
              "      <td>I Don't Care (with Justin Bieber) [Loud Luxury...</td>\n",
              "      <td>2019-06-14</td>\n",
              "      <td>Pop Remix</td>\n",
              "      <td>37i9dQZF1DXcZDD7cfEKhW</td>\n",
              "      <td>pop</td>\n",
              "      <td>...</td>\n",
              "      <td>6</td>\n",
              "      <td>-2.634</td>\n",
              "      <td>1</td>\n",
              "      <td>0.0583</td>\n",
              "      <td>0.102000</td>\n",
              "      <td>0.000000</td>\n",
              "      <td>0.0653</td>\n",
              "      <td>0.5180</td>\n",
              "      <td>122.036</td>\n",
              "      <td>194754</td>\n",
              "    </tr>\n",
              "    <tr>\n",
              "      <th>1</th>\n",
              "      <td>0r7CVbZTWZgbTCYdfa2P31</td>\n",
              "      <td>Memories - Dillon Francis Remix</td>\n",
              "      <td>Maroon 5</td>\n",
              "      <td>67</td>\n",
              "      <td>63rPSO264uRjW1X5E6cWv6</td>\n",
              "      <td>Memories (Dillon Francis Remix)</td>\n",
              "      <td>2019-12-13</td>\n",
              "      <td>Pop Remix</td>\n",
              "      <td>37i9dQZF1DXcZDD7cfEKhW</td>\n",
              "      <td>pop</td>\n",
              "      <td>...</td>\n",
              "      <td>11</td>\n",
              "      <td>-4.969</td>\n",
              "      <td>1</td>\n",
              "      <td>0.0373</td>\n",
              "      <td>0.072400</td>\n",
              "      <td>0.004210</td>\n",
              "      <td>0.3570</td>\n",
              "      <td>0.6930</td>\n",
              "      <td>99.972</td>\n",
              "      <td>162600</td>\n",
              "    </tr>\n",
              "    <tr>\n",
              "      <th>2</th>\n",
              "      <td>1z1Hg7Vb0AhHDiEmnDE79l</td>\n",
              "      <td>All the Time - Don Diablo Remix</td>\n",
              "      <td>Zara Larsson</td>\n",
              "      <td>70</td>\n",
              "      <td>1HoSmj2eLcsrR0vE9gThr4</td>\n",
              "      <td>All the Time (Don Diablo Remix)</td>\n",
              "      <td>2019-07-05</td>\n",
              "      <td>Pop Remix</td>\n",
              "      <td>37i9dQZF1DXcZDD7cfEKhW</td>\n",
              "      <td>pop</td>\n",
              "      <td>...</td>\n",
              "      <td>1</td>\n",
              "      <td>-3.432</td>\n",
              "      <td>0</td>\n",
              "      <td>0.0742</td>\n",
              "      <td>0.079400</td>\n",
              "      <td>0.000023</td>\n",
              "      <td>0.1100</td>\n",
              "      <td>0.6130</td>\n",
              "      <td>124.008</td>\n",
              "      <td>176616</td>\n",
              "    </tr>\n",
              "    <tr>\n",
              "      <th>3</th>\n",
              "      <td>75FpbthrwQmzHlBJLuGdC7</td>\n",
              "      <td>Call You Mine - Keanu Silva Remix</td>\n",
              "      <td>The Chainsmokers</td>\n",
              "      <td>60</td>\n",
              "      <td>1nqYsOef1yKKuGOVchbsk6</td>\n",
              "      <td>Call You Mine - The Remixes</td>\n",
              "      <td>2019-07-19</td>\n",
              "      <td>Pop Remix</td>\n",
              "      <td>37i9dQZF1DXcZDD7cfEKhW</td>\n",
              "      <td>pop</td>\n",
              "      <td>...</td>\n",
              "      <td>7</td>\n",
              "      <td>-3.778</td>\n",
              "      <td>1</td>\n",
              "      <td>0.1020</td>\n",
              "      <td>0.028700</td>\n",
              "      <td>0.000009</td>\n",
              "      <td>0.2040</td>\n",
              "      <td>0.2770</td>\n",
              "      <td>121.956</td>\n",
              "      <td>169093</td>\n",
              "    </tr>\n",
              "    <tr>\n",
              "      <th>4</th>\n",
              "      <td>1e8PAfcKUYoKkxPhrHqw4x</td>\n",
              "      <td>Someone You Loved - Future Humans Remix</td>\n",
              "      <td>Lewis Capaldi</td>\n",
              "      <td>69</td>\n",
              "      <td>7m7vv9wlQ4i0LFuJiE2zsQ</td>\n",
              "      <td>Someone You Loved (Future Humans Remix)</td>\n",
              "      <td>2019-03-05</td>\n",
              "      <td>Pop Remix</td>\n",
              "      <td>37i9dQZF1DXcZDD7cfEKhW</td>\n",
              "      <td>pop</td>\n",
              "      <td>...</td>\n",
              "      <td>1</td>\n",
              "      <td>-4.672</td>\n",
              "      <td>1</td>\n",
              "      <td>0.0359</td>\n",
              "      <td>0.080300</td>\n",
              "      <td>0.000000</td>\n",
              "      <td>0.0833</td>\n",
              "      <td>0.7250</td>\n",
              "      <td>123.976</td>\n",
              "      <td>189052</td>\n",
              "    </tr>\n",
              "    <tr>\n",
              "      <th>...</th>\n",
              "      <td>...</td>\n",
              "      <td>...</td>\n",
              "      <td>...</td>\n",
              "      <td>...</td>\n",
              "      <td>...</td>\n",
              "      <td>...</td>\n",
              "      <td>...</td>\n",
              "      <td>...</td>\n",
              "      <td>...</td>\n",
              "      <td>...</td>\n",
              "      <td>...</td>\n",
              "      <td>...</td>\n",
              "      <td>...</td>\n",
              "      <td>...</td>\n",
              "      <td>...</td>\n",
              "      <td>...</td>\n",
              "      <td>...</td>\n",
              "      <td>...</td>\n",
              "      <td>...</td>\n",
              "      <td>...</td>\n",
              "      <td>...</td>\n",
              "    </tr>\n",
              "    <tr>\n",
              "      <th>32828</th>\n",
              "      <td>7bxnKAamR3snQ1VGLuVfC1</td>\n",
              "      <td>City Of Lights - Official Radio Edit</td>\n",
              "      <td>Lush &amp; Simon</td>\n",
              "      <td>42</td>\n",
              "      <td>2azRoBBWEEEYhqV6sb7JrT</td>\n",
              "      <td>City Of Lights (Vocal Mix)</td>\n",
              "      <td>2014-04-28</td>\n",
              "      <td>♥ EDM LOVE 2020</td>\n",
              "      <td>6jI1gFr6ANFtT8MmTvA2Ux</td>\n",
              "      <td>edm</td>\n",
              "      <td>...</td>\n",
              "      <td>2</td>\n",
              "      <td>-1.814</td>\n",
              "      <td>1</td>\n",
              "      <td>0.0936</td>\n",
              "      <td>0.076600</td>\n",
              "      <td>0.000000</td>\n",
              "      <td>0.0668</td>\n",
              "      <td>0.2100</td>\n",
              "      <td>128.170</td>\n",
              "      <td>204375</td>\n",
              "    </tr>\n",
              "    <tr>\n",
              "      <th>32829</th>\n",
              "      <td>5Aevni09Em4575077nkWHz</td>\n",
              "      <td>Closer - Sultan &amp; Ned Shepard Remix</td>\n",
              "      <td>Tegan and Sara</td>\n",
              "      <td>20</td>\n",
              "      <td>6kD6KLxj7s8eCE3ABvAyf5</td>\n",
              "      <td>Closer Remixed</td>\n",
              "      <td>2013-03-08</td>\n",
              "      <td>♥ EDM LOVE 2020</td>\n",
              "      <td>6jI1gFr6ANFtT8MmTvA2Ux</td>\n",
              "      <td>edm</td>\n",
              "      <td>...</td>\n",
              "      <td>0</td>\n",
              "      <td>-4.462</td>\n",
              "      <td>1</td>\n",
              "      <td>0.0420</td>\n",
              "      <td>0.001710</td>\n",
              "      <td>0.004270</td>\n",
              "      <td>0.3750</td>\n",
              "      <td>0.4000</td>\n",
              "      <td>128.041</td>\n",
              "      <td>353120</td>\n",
              "    </tr>\n",
              "    <tr>\n",
              "      <th>32830</th>\n",
              "      <td>7ImMqPP3Q1yfUHvsdn7wEo</td>\n",
              "      <td>Sweet Surrender - Radio Edit</td>\n",
              "      <td>Starkillers</td>\n",
              "      <td>14</td>\n",
              "      <td>0ltWNSY9JgxoIZO4VzuCa6</td>\n",
              "      <td>Sweet Surrender (Radio Edit)</td>\n",
              "      <td>2014-04-21</td>\n",
              "      <td>♥ EDM LOVE 2020</td>\n",
              "      <td>6jI1gFr6ANFtT8MmTvA2Ux</td>\n",
              "      <td>edm</td>\n",
              "      <td>...</td>\n",
              "      <td>6</td>\n",
              "      <td>-4.899</td>\n",
              "      <td>0</td>\n",
              "      <td>0.0481</td>\n",
              "      <td>0.108000</td>\n",
              "      <td>0.000001</td>\n",
              "      <td>0.1500</td>\n",
              "      <td>0.4360</td>\n",
              "      <td>127.989</td>\n",
              "      <td>210112</td>\n",
              "    </tr>\n",
              "    <tr>\n",
              "      <th>32831</th>\n",
              "      <td>2m69mhnfQ1Oq6lGtXuYhgX</td>\n",
              "      <td>Only For You - Maor Levi Remix</td>\n",
              "      <td>Mat Zo</td>\n",
              "      <td>15</td>\n",
              "      <td>1fGrOkHnHJcStl14zNx8Jy</td>\n",
              "      <td>Only For You (Remixes)</td>\n",
              "      <td>2014-01-01</td>\n",
              "      <td>♥ EDM LOVE 2020</td>\n",
              "      <td>6jI1gFr6ANFtT8MmTvA2Ux</td>\n",
              "      <td>edm</td>\n",
              "      <td>...</td>\n",
              "      <td>2</td>\n",
              "      <td>-3.361</td>\n",
              "      <td>1</td>\n",
              "      <td>0.1090</td>\n",
              "      <td>0.007920</td>\n",
              "      <td>0.127000</td>\n",
              "      <td>0.3430</td>\n",
              "      <td>0.3080</td>\n",
              "      <td>128.008</td>\n",
              "      <td>367432</td>\n",
              "    </tr>\n",
              "    <tr>\n",
              "      <th>32832</th>\n",
              "      <td>29zWqhca3zt5NsckZqDf6c</td>\n",
              "      <td>Typhoon - Original Mix</td>\n",
              "      <td>Julian Calor</td>\n",
              "      <td>27</td>\n",
              "      <td>0X3mUOm6MhxR7PzxG95rAo</td>\n",
              "      <td>Typhoon/Storm</td>\n",
              "      <td>2014-03-03</td>\n",
              "      <td>♥ EDM LOVE 2020</td>\n",
              "      <td>6jI1gFr6ANFtT8MmTvA2Ux</td>\n",
              "      <td>edm</td>\n",
              "      <td>...</td>\n",
              "      <td>5</td>\n",
              "      <td>-4.571</td>\n",
              "      <td>0</td>\n",
              "      <td>0.0385</td>\n",
              "      <td>0.000133</td>\n",
              "      <td>0.341000</td>\n",
              "      <td>0.7420</td>\n",
              "      <td>0.0894</td>\n",
              "      <td>127.984</td>\n",
              "      <td>337500</td>\n",
              "    </tr>\n",
              "  </tbody>\n",
              "</table>\n",
              "<p>32833 rows × 23 columns</p>\n",
              "</div>\n",
              "    <div class=\"colab-df-buttons\">\n",
              "\n",
              "  <div class=\"colab-df-container\">\n",
              "    <button class=\"colab-df-convert\" onclick=\"convertToInteractive('df-0f25b8b8-8315-490f-9b90-85bdd645fc01')\"\n",
              "            title=\"Convert this dataframe to an interactive table.\"\n",
              "            style=\"display:none;\">\n",
              "\n",
              "  <svg xmlns=\"http://www.w3.org/2000/svg\" height=\"24px\" viewBox=\"0 -960 960 960\">\n",
              "    <path d=\"M120-120v-720h720v720H120Zm60-500h600v-160H180v160Zm220 220h160v-160H400v160Zm0 220h160v-160H400v160ZM180-400h160v-160H180v160Zm440 0h160v-160H620v160ZM180-180h160v-160H180v160Zm440 0h160v-160H620v160Z\"/>\n",
              "  </svg>\n",
              "    </button>\n",
              "\n",
              "  <style>\n",
              "    .colab-df-container {\n",
              "      display:flex;\n",
              "      gap: 12px;\n",
              "    }\n",
              "\n",
              "    .colab-df-convert {\n",
              "      background-color: #E8F0FE;\n",
              "      border: none;\n",
              "      border-radius: 50%;\n",
              "      cursor: pointer;\n",
              "      display: none;\n",
              "      fill: #1967D2;\n",
              "      height: 32px;\n",
              "      padding: 0 0 0 0;\n",
              "      width: 32px;\n",
              "    }\n",
              "\n",
              "    .colab-df-convert:hover {\n",
              "      background-color: #E2EBFA;\n",
              "      box-shadow: 0px 1px 2px rgba(60, 64, 67, 0.3), 0px 1px 3px 1px rgba(60, 64, 67, 0.15);\n",
              "      fill: #174EA6;\n",
              "    }\n",
              "\n",
              "    .colab-df-buttons div {\n",
              "      margin-bottom: 4px;\n",
              "    }\n",
              "\n",
              "    [theme=dark] .colab-df-convert {\n",
              "      background-color: #3B4455;\n",
              "      fill: #D2E3FC;\n",
              "    }\n",
              "\n",
              "    [theme=dark] .colab-df-convert:hover {\n",
              "      background-color: #434B5C;\n",
              "      box-shadow: 0px 1px 3px 1px rgba(0, 0, 0, 0.15);\n",
              "      filter: drop-shadow(0px 1px 2px rgba(0, 0, 0, 0.3));\n",
              "      fill: #FFFFFF;\n",
              "    }\n",
              "  </style>\n",
              "\n",
              "    <script>\n",
              "      const buttonEl =\n",
              "        document.querySelector('#df-0f25b8b8-8315-490f-9b90-85bdd645fc01 button.colab-df-convert');\n",
              "      buttonEl.style.display =\n",
              "        google.colab.kernel.accessAllowed ? 'block' : 'none';\n",
              "\n",
              "      async function convertToInteractive(key) {\n",
              "        const element = document.querySelector('#df-0f25b8b8-8315-490f-9b90-85bdd645fc01');\n",
              "        const dataTable =\n",
              "          await google.colab.kernel.invokeFunction('convertToInteractive',\n",
              "                                                    [key], {});\n",
              "        if (!dataTable) return;\n",
              "\n",
              "        const docLinkHtml = 'Like what you see? Visit the ' +\n",
              "          '<a target=\"_blank\" href=https://colab.research.google.com/notebooks/data_table.ipynb>data table notebook</a>'\n",
              "          + ' to learn more about interactive tables.';\n",
              "        element.innerHTML = '';\n",
              "        dataTable['output_type'] = 'display_data';\n",
              "        await google.colab.output.renderOutput(dataTable, element);\n",
              "        const docLink = document.createElement('div');\n",
              "        docLink.innerHTML = docLinkHtml;\n",
              "        element.appendChild(docLink);\n",
              "      }\n",
              "    </script>\n",
              "  </div>\n",
              "\n",
              "\n",
              "<div id=\"df-caf5721b-c857-440c-bdf6-6bf6aea54e83\">\n",
              "  <button class=\"colab-df-quickchart\" onclick=\"quickchart('df-caf5721b-c857-440c-bdf6-6bf6aea54e83')\"\n",
              "            title=\"Suggest charts\"\n",
              "            style=\"display:none;\">\n",
              "\n",
              "<svg xmlns=\"http://www.w3.org/2000/svg\" height=\"24px\"viewBox=\"0 0 24 24\"\n",
              "     width=\"24px\">\n",
              "    <g>\n",
              "        <path d=\"M19 3H5c-1.1 0-2 .9-2 2v14c0 1.1.9 2 2 2h14c1.1 0 2-.9 2-2V5c0-1.1-.9-2-2-2zM9 17H7v-7h2v7zm4 0h-2V7h2v10zm4 0h-2v-4h2v4z\"/>\n",
              "    </g>\n",
              "</svg>\n",
              "  </button>\n",
              "\n",
              "<style>\n",
              "  .colab-df-quickchart {\n",
              "      --bg-color: #E8F0FE;\n",
              "      --fill-color: #1967D2;\n",
              "      --hover-bg-color: #E2EBFA;\n",
              "      --hover-fill-color: #174EA6;\n",
              "      --disabled-fill-color: #AAA;\n",
              "      --disabled-bg-color: #DDD;\n",
              "  }\n",
              "\n",
              "  [theme=dark] .colab-df-quickchart {\n",
              "      --bg-color: #3B4455;\n",
              "      --fill-color: #D2E3FC;\n",
              "      --hover-bg-color: #434B5C;\n",
              "      --hover-fill-color: #FFFFFF;\n",
              "      --disabled-bg-color: #3B4455;\n",
              "      --disabled-fill-color: #666;\n",
              "  }\n",
              "\n",
              "  .colab-df-quickchart {\n",
              "    background-color: var(--bg-color);\n",
              "    border: none;\n",
              "    border-radius: 50%;\n",
              "    cursor: pointer;\n",
              "    display: none;\n",
              "    fill: var(--fill-color);\n",
              "    height: 32px;\n",
              "    padding: 0;\n",
              "    width: 32px;\n",
              "  }\n",
              "\n",
              "  .colab-df-quickchart:hover {\n",
              "    background-color: var(--hover-bg-color);\n",
              "    box-shadow: 0 1px 2px rgba(60, 64, 67, 0.3), 0 1px 3px 1px rgba(60, 64, 67, 0.15);\n",
              "    fill: var(--button-hover-fill-color);\n",
              "  }\n",
              "\n",
              "  .colab-df-quickchart-complete:disabled,\n",
              "  .colab-df-quickchart-complete:disabled:hover {\n",
              "    background-color: var(--disabled-bg-color);\n",
              "    fill: var(--disabled-fill-color);\n",
              "    box-shadow: none;\n",
              "  }\n",
              "\n",
              "  .colab-df-spinner {\n",
              "    border: 2px solid var(--fill-color);\n",
              "    border-color: transparent;\n",
              "    border-bottom-color: var(--fill-color);\n",
              "    animation:\n",
              "      spin 1s steps(1) infinite;\n",
              "  }\n",
              "\n",
              "  @keyframes spin {\n",
              "    0% {\n",
              "      border-color: transparent;\n",
              "      border-bottom-color: var(--fill-color);\n",
              "      border-left-color: var(--fill-color);\n",
              "    }\n",
              "    20% {\n",
              "      border-color: transparent;\n",
              "      border-left-color: var(--fill-color);\n",
              "      border-top-color: var(--fill-color);\n",
              "    }\n",
              "    30% {\n",
              "      border-color: transparent;\n",
              "      border-left-color: var(--fill-color);\n",
              "      border-top-color: var(--fill-color);\n",
              "      border-right-color: var(--fill-color);\n",
              "    }\n",
              "    40% {\n",
              "      border-color: transparent;\n",
              "      border-right-color: var(--fill-color);\n",
              "      border-top-color: var(--fill-color);\n",
              "    }\n",
              "    60% {\n",
              "      border-color: transparent;\n",
              "      border-right-color: var(--fill-color);\n",
              "    }\n",
              "    80% {\n",
              "      border-color: transparent;\n",
              "      border-right-color: var(--fill-color);\n",
              "      border-bottom-color: var(--fill-color);\n",
              "    }\n",
              "    90% {\n",
              "      border-color: transparent;\n",
              "      border-bottom-color: var(--fill-color);\n",
              "    }\n",
              "  }\n",
              "</style>\n",
              "\n",
              "  <script>\n",
              "    async function quickchart(key) {\n",
              "      const quickchartButtonEl =\n",
              "        document.querySelector('#' + key + ' button');\n",
              "      quickchartButtonEl.disabled = true;  // To prevent multiple clicks.\n",
              "      quickchartButtonEl.classList.add('colab-df-spinner');\n",
              "      try {\n",
              "        const charts = await google.colab.kernel.invokeFunction(\n",
              "            'suggestCharts', [key], {});\n",
              "      } catch (error) {\n",
              "        console.error('Error during call to suggestCharts:', error);\n",
              "      }\n",
              "      quickchartButtonEl.classList.remove('colab-df-spinner');\n",
              "      quickchartButtonEl.classList.add('colab-df-quickchart-complete');\n",
              "    }\n",
              "    (() => {\n",
              "      let quickchartButtonEl =\n",
              "        document.querySelector('#df-caf5721b-c857-440c-bdf6-6bf6aea54e83 button');\n",
              "      quickchartButtonEl.style.display =\n",
              "        google.colab.kernel.accessAllowed ? 'block' : 'none';\n",
              "    })();\n",
              "  </script>\n",
              "</div>\n",
              "\n",
              "  <div id=\"id_a1ec9f2a-d3a7-40a0-ae9b-b45a7a365064\">\n",
              "    <style>\n",
              "      .colab-df-generate {\n",
              "        background-color: #E8F0FE;\n",
              "        border: none;\n",
              "        border-radius: 50%;\n",
              "        cursor: pointer;\n",
              "        display: none;\n",
              "        fill: #1967D2;\n",
              "        height: 32px;\n",
              "        padding: 0 0 0 0;\n",
              "        width: 32px;\n",
              "      }\n",
              "\n",
              "      .colab-df-generate:hover {\n",
              "        background-color: #E2EBFA;\n",
              "        box-shadow: 0px 1px 2px rgba(60, 64, 67, 0.3), 0px 1px 3px 1px rgba(60, 64, 67, 0.15);\n",
              "        fill: #174EA6;\n",
              "      }\n",
              "\n",
              "      [theme=dark] .colab-df-generate {\n",
              "        background-color: #3B4455;\n",
              "        fill: #D2E3FC;\n",
              "      }\n",
              "\n",
              "      [theme=dark] .colab-df-generate:hover {\n",
              "        background-color: #434B5C;\n",
              "        box-shadow: 0px 1px 3px 1px rgba(0, 0, 0, 0.15);\n",
              "        filter: drop-shadow(0px 1px 2px rgba(0, 0, 0, 0.3));\n",
              "        fill: #FFFFFF;\n",
              "      }\n",
              "    </style>\n",
              "    <button class=\"colab-df-generate\" onclick=\"generateWithVariable('data')\"\n",
              "            title=\"Generate code using this dataframe.\"\n",
              "            style=\"display:none;\">\n",
              "\n",
              "  <svg xmlns=\"http://www.w3.org/2000/svg\" height=\"24px\"viewBox=\"0 0 24 24\"\n",
              "       width=\"24px\">\n",
              "    <path d=\"M7,19H8.4L18.45,9,17,7.55,7,17.6ZM5,21V16.75L18.45,3.32a2,2,0,0,1,2.83,0l1.4,1.43a1.91,1.91,0,0,1,.58,1.4,1.91,1.91,0,0,1-.58,1.4L9.25,21ZM18.45,9,17,7.55Zm-12,3A5.31,5.31,0,0,0,4.9,8.1,5.31,5.31,0,0,0,1,6.5,5.31,5.31,0,0,0,4.9,4.9,5.31,5.31,0,0,0,6.5,1,5.31,5.31,0,0,0,8.1,4.9,5.31,5.31,0,0,0,12,6.5,5.46,5.46,0,0,0,6.5,12Z\"/>\n",
              "  </svg>\n",
              "    </button>\n",
              "    <script>\n",
              "      (() => {\n",
              "      const buttonEl =\n",
              "        document.querySelector('#id_a1ec9f2a-d3a7-40a0-ae9b-b45a7a365064 button.colab-df-generate');\n",
              "      buttonEl.style.display =\n",
              "        google.colab.kernel.accessAllowed ? 'block' : 'none';\n",
              "\n",
              "      buttonEl.onclick = () => {\n",
              "        google.colab.notebook.generateWithVariable('data');\n",
              "      }\n",
              "      })();\n",
              "    </script>\n",
              "  </div>\n",
              "\n",
              "    </div>\n",
              "  </div>\n"
            ],
            "application/vnd.google.colaboratory.intrinsic+json": {
              "type": "dataframe",
              "variable_name": "data"
            }
          },
          "metadata": {}
        }
      ]
    },
    {
      "cell_type": "markdown",
      "source": [
        "**Menampilkan informasi tentang Dataset seperti, jumlah baris, jumlah kolom yang terisi, dan type data**"
      ],
      "metadata": {
        "id": "NzIGezxGM1Hq"
      }
    },
    {
      "cell_type": "code",
      "source": [
        "# Menampilkan informasi umum tentang data dan jenis data dari setiap kolom\n",
        "print(\"Informasi Umum Data:\")\n",
        "display(data.info())"
      ],
      "metadata": {
        "colab": {
          "base_uri": "https://localhost:8080/",
          "height": 572
        },
        "id": "99hfgQ3cLOqD",
        "outputId": "e28160d9-f8c7-48c1-84e5-058b62fc94e8"
      },
      "execution_count": 7,
      "outputs": [
        {
          "output_type": "stream",
          "name": "stdout",
          "text": [
            "Informasi Umum Data:\n",
            "<class 'pandas.core.frame.DataFrame'>\n",
            "RangeIndex: 32833 entries, 0 to 32832\n",
            "Data columns (total 23 columns):\n",
            " #   Column                    Non-Null Count  Dtype  \n",
            "---  ------                    --------------  -----  \n",
            " 0   track_id                  32833 non-null  object \n",
            " 1   track_name                32828 non-null  object \n",
            " 2   track_artist              32828 non-null  object \n",
            " 3   track_popularity          32833 non-null  int64  \n",
            " 4   track_album_id            32833 non-null  object \n",
            " 5   track_album_name          32828 non-null  object \n",
            " 6   track_album_release_date  32833 non-null  object \n",
            " 7   playlist_name             32833 non-null  object \n",
            " 8   playlist_id               32833 non-null  object \n",
            " 9   playlist_genre            32833 non-null  object \n",
            " 10  playlist_subgenre         32833 non-null  object \n",
            " 11  danceability              32833 non-null  float64\n",
            " 12  energy                    32833 non-null  float64\n",
            " 13  key                       32833 non-null  int64  \n",
            " 14  loudness                  32833 non-null  float64\n",
            " 15  mode                      32833 non-null  int64  \n",
            " 16  speechiness               32833 non-null  float64\n",
            " 17  acousticness              32833 non-null  float64\n",
            " 18  instrumentalness          32833 non-null  float64\n",
            " 19  liveness                  32833 non-null  float64\n",
            " 20  valence                   32833 non-null  float64\n",
            " 21  tempo                     32833 non-null  float64\n",
            " 22  duration_ms               32833 non-null  int64  \n",
            "dtypes: float64(9), int64(4), object(10)\n",
            "memory usage: 5.8+ MB\n"
          ]
        },
        {
          "output_type": "display_data",
          "data": {
            "text/plain": [
              "None"
            ]
          },
          "metadata": {}
        }
      ]
    },
    {
      "cell_type": "markdown",
      "source": [
        "**Persebaran data numerik**"
      ],
      "metadata": {
        "id": "XeeugsVkNssB"
      }
    },
    {
      "cell_type": "code",
      "source": [
        "print(\"\\nStatistik Deskriptif:\")\n",
        "display(data.describe())"
      ],
      "metadata": {
        "colab": {
          "base_uri": "https://localhost:8080/",
          "height": 335
        },
        "id": "4khraDftLD7c",
        "outputId": "e82da394-df50-49b8-c5c4-ca71f52588c5"
      },
      "execution_count": 8,
      "outputs": [
        {
          "output_type": "stream",
          "name": "stdout",
          "text": [
            "\n",
            "Statistik Deskriptif:\n"
          ]
        },
        {
          "output_type": "display_data",
          "data": {
            "text/plain": [
              "       track_popularity  danceability        energy           key  \\\n",
              "count      32833.000000  32833.000000  32833.000000  32833.000000   \n",
              "mean          42.477081      0.654850      0.698619      5.374471   \n",
              "std           24.984074      0.145085      0.180910      3.611657   \n",
              "min            0.000000      0.000000      0.000175      0.000000   \n",
              "25%           24.000000      0.563000      0.581000      2.000000   \n",
              "50%           45.000000      0.672000      0.721000      6.000000   \n",
              "75%           62.000000      0.761000      0.840000      9.000000   \n",
              "max          100.000000      0.983000      1.000000     11.000000   \n",
              "\n",
              "           loudness          mode   speechiness  acousticness  \\\n",
              "count  32833.000000  32833.000000  32833.000000  32833.000000   \n",
              "mean      -6.719499      0.565711      0.107068      0.175334   \n",
              "std        2.988436      0.495671      0.101314      0.219633   \n",
              "min      -46.448000      0.000000      0.000000      0.000000   \n",
              "25%       -8.171000      0.000000      0.041000      0.015100   \n",
              "50%       -6.166000      1.000000      0.062500      0.080400   \n",
              "75%       -4.645000      1.000000      0.132000      0.255000   \n",
              "max        1.275000      1.000000      0.918000      0.994000   \n",
              "\n",
              "       instrumentalness      liveness       valence         tempo  \\\n",
              "count      32833.000000  32833.000000  32833.000000  32833.000000   \n",
              "mean           0.084747      0.190176      0.510561    120.881132   \n",
              "std            0.224230      0.154317      0.233146     26.903624   \n",
              "min            0.000000      0.000000      0.000000      0.000000   \n",
              "25%            0.000000      0.092700      0.331000     99.960000   \n",
              "50%            0.000016      0.127000      0.512000    121.984000   \n",
              "75%            0.004830      0.248000      0.693000    133.918000   \n",
              "max            0.994000      0.996000      0.991000    239.440000   \n",
              "\n",
              "         duration_ms  \n",
              "count   32833.000000  \n",
              "mean   225799.811622  \n",
              "std     59834.006182  \n",
              "min      4000.000000  \n",
              "25%    187819.000000  \n",
              "50%    216000.000000  \n",
              "75%    253585.000000  \n",
              "max    517810.000000  "
            ],
            "text/html": [
              "\n",
              "  <div id=\"df-72f8a1a2-d90d-45b1-924f-a796adeabd2d\" class=\"colab-df-container\">\n",
              "    <div>\n",
              "<style scoped>\n",
              "    .dataframe tbody tr th:only-of-type {\n",
              "        vertical-align: middle;\n",
              "    }\n",
              "\n",
              "    .dataframe tbody tr th {\n",
              "        vertical-align: top;\n",
              "    }\n",
              "\n",
              "    .dataframe thead th {\n",
              "        text-align: right;\n",
              "    }\n",
              "</style>\n",
              "<table border=\"1\" class=\"dataframe\">\n",
              "  <thead>\n",
              "    <tr style=\"text-align: right;\">\n",
              "      <th></th>\n",
              "      <th>track_popularity</th>\n",
              "      <th>danceability</th>\n",
              "      <th>energy</th>\n",
              "      <th>key</th>\n",
              "      <th>loudness</th>\n",
              "      <th>mode</th>\n",
              "      <th>speechiness</th>\n",
              "      <th>acousticness</th>\n",
              "      <th>instrumentalness</th>\n",
              "      <th>liveness</th>\n",
              "      <th>valence</th>\n",
              "      <th>tempo</th>\n",
              "      <th>duration_ms</th>\n",
              "    </tr>\n",
              "  </thead>\n",
              "  <tbody>\n",
              "    <tr>\n",
              "      <th>count</th>\n",
              "      <td>32833.000000</td>\n",
              "      <td>32833.000000</td>\n",
              "      <td>32833.000000</td>\n",
              "      <td>32833.000000</td>\n",
              "      <td>32833.000000</td>\n",
              "      <td>32833.000000</td>\n",
              "      <td>32833.000000</td>\n",
              "      <td>32833.000000</td>\n",
              "      <td>32833.000000</td>\n",
              "      <td>32833.000000</td>\n",
              "      <td>32833.000000</td>\n",
              "      <td>32833.000000</td>\n",
              "      <td>32833.000000</td>\n",
              "    </tr>\n",
              "    <tr>\n",
              "      <th>mean</th>\n",
              "      <td>42.477081</td>\n",
              "      <td>0.654850</td>\n",
              "      <td>0.698619</td>\n",
              "      <td>5.374471</td>\n",
              "      <td>-6.719499</td>\n",
              "      <td>0.565711</td>\n",
              "      <td>0.107068</td>\n",
              "      <td>0.175334</td>\n",
              "      <td>0.084747</td>\n",
              "      <td>0.190176</td>\n",
              "      <td>0.510561</td>\n",
              "      <td>120.881132</td>\n",
              "      <td>225799.811622</td>\n",
              "    </tr>\n",
              "    <tr>\n",
              "      <th>std</th>\n",
              "      <td>24.984074</td>\n",
              "      <td>0.145085</td>\n",
              "      <td>0.180910</td>\n",
              "      <td>3.611657</td>\n",
              "      <td>2.988436</td>\n",
              "      <td>0.495671</td>\n",
              "      <td>0.101314</td>\n",
              "      <td>0.219633</td>\n",
              "      <td>0.224230</td>\n",
              "      <td>0.154317</td>\n",
              "      <td>0.233146</td>\n",
              "      <td>26.903624</td>\n",
              "      <td>59834.006182</td>\n",
              "    </tr>\n",
              "    <tr>\n",
              "      <th>min</th>\n",
              "      <td>0.000000</td>\n",
              "      <td>0.000000</td>\n",
              "      <td>0.000175</td>\n",
              "      <td>0.000000</td>\n",
              "      <td>-46.448000</td>\n",
              "      <td>0.000000</td>\n",
              "      <td>0.000000</td>\n",
              "      <td>0.000000</td>\n",
              "      <td>0.000000</td>\n",
              "      <td>0.000000</td>\n",
              "      <td>0.000000</td>\n",
              "      <td>0.000000</td>\n",
              "      <td>4000.000000</td>\n",
              "    </tr>\n",
              "    <tr>\n",
              "      <th>25%</th>\n",
              "      <td>24.000000</td>\n",
              "      <td>0.563000</td>\n",
              "      <td>0.581000</td>\n",
              "      <td>2.000000</td>\n",
              "      <td>-8.171000</td>\n",
              "      <td>0.000000</td>\n",
              "      <td>0.041000</td>\n",
              "      <td>0.015100</td>\n",
              "      <td>0.000000</td>\n",
              "      <td>0.092700</td>\n",
              "      <td>0.331000</td>\n",
              "      <td>99.960000</td>\n",
              "      <td>187819.000000</td>\n",
              "    </tr>\n",
              "    <tr>\n",
              "      <th>50%</th>\n",
              "      <td>45.000000</td>\n",
              "      <td>0.672000</td>\n",
              "      <td>0.721000</td>\n",
              "      <td>6.000000</td>\n",
              "      <td>-6.166000</td>\n",
              "      <td>1.000000</td>\n",
              "      <td>0.062500</td>\n",
              "      <td>0.080400</td>\n",
              "      <td>0.000016</td>\n",
              "      <td>0.127000</td>\n",
              "      <td>0.512000</td>\n",
              "      <td>121.984000</td>\n",
              "      <td>216000.000000</td>\n",
              "    </tr>\n",
              "    <tr>\n",
              "      <th>75%</th>\n",
              "      <td>62.000000</td>\n",
              "      <td>0.761000</td>\n",
              "      <td>0.840000</td>\n",
              "      <td>9.000000</td>\n",
              "      <td>-4.645000</td>\n",
              "      <td>1.000000</td>\n",
              "      <td>0.132000</td>\n",
              "      <td>0.255000</td>\n",
              "      <td>0.004830</td>\n",
              "      <td>0.248000</td>\n",
              "      <td>0.693000</td>\n",
              "      <td>133.918000</td>\n",
              "      <td>253585.000000</td>\n",
              "    </tr>\n",
              "    <tr>\n",
              "      <th>max</th>\n",
              "      <td>100.000000</td>\n",
              "      <td>0.983000</td>\n",
              "      <td>1.000000</td>\n",
              "      <td>11.000000</td>\n",
              "      <td>1.275000</td>\n",
              "      <td>1.000000</td>\n",
              "      <td>0.918000</td>\n",
              "      <td>0.994000</td>\n",
              "      <td>0.994000</td>\n",
              "      <td>0.996000</td>\n",
              "      <td>0.991000</td>\n",
              "      <td>239.440000</td>\n",
              "      <td>517810.000000</td>\n",
              "    </tr>\n",
              "  </tbody>\n",
              "</table>\n",
              "</div>\n",
              "    <div class=\"colab-df-buttons\">\n",
              "\n",
              "  <div class=\"colab-df-container\">\n",
              "    <button class=\"colab-df-convert\" onclick=\"convertToInteractive('df-72f8a1a2-d90d-45b1-924f-a796adeabd2d')\"\n",
              "            title=\"Convert this dataframe to an interactive table.\"\n",
              "            style=\"display:none;\">\n",
              "\n",
              "  <svg xmlns=\"http://www.w3.org/2000/svg\" height=\"24px\" viewBox=\"0 -960 960 960\">\n",
              "    <path d=\"M120-120v-720h720v720H120Zm60-500h600v-160H180v160Zm220 220h160v-160H400v160Zm0 220h160v-160H400v160ZM180-400h160v-160H180v160Zm440 0h160v-160H620v160ZM180-180h160v-160H180v160Zm440 0h160v-160H620v160Z\"/>\n",
              "  </svg>\n",
              "    </button>\n",
              "\n",
              "  <style>\n",
              "    .colab-df-container {\n",
              "      display:flex;\n",
              "      gap: 12px;\n",
              "    }\n",
              "\n",
              "    .colab-df-convert {\n",
              "      background-color: #E8F0FE;\n",
              "      border: none;\n",
              "      border-radius: 50%;\n",
              "      cursor: pointer;\n",
              "      display: none;\n",
              "      fill: #1967D2;\n",
              "      height: 32px;\n",
              "      padding: 0 0 0 0;\n",
              "      width: 32px;\n",
              "    }\n",
              "\n",
              "    .colab-df-convert:hover {\n",
              "      background-color: #E2EBFA;\n",
              "      box-shadow: 0px 1px 2px rgba(60, 64, 67, 0.3), 0px 1px 3px 1px rgba(60, 64, 67, 0.15);\n",
              "      fill: #174EA6;\n",
              "    }\n",
              "\n",
              "    .colab-df-buttons div {\n",
              "      margin-bottom: 4px;\n",
              "    }\n",
              "\n",
              "    [theme=dark] .colab-df-convert {\n",
              "      background-color: #3B4455;\n",
              "      fill: #D2E3FC;\n",
              "    }\n",
              "\n",
              "    [theme=dark] .colab-df-convert:hover {\n",
              "      background-color: #434B5C;\n",
              "      box-shadow: 0px 1px 3px 1px rgba(0, 0, 0, 0.15);\n",
              "      filter: drop-shadow(0px 1px 2px rgba(0, 0, 0, 0.3));\n",
              "      fill: #FFFFFF;\n",
              "    }\n",
              "  </style>\n",
              "\n",
              "    <script>\n",
              "      const buttonEl =\n",
              "        document.querySelector('#df-72f8a1a2-d90d-45b1-924f-a796adeabd2d button.colab-df-convert');\n",
              "      buttonEl.style.display =\n",
              "        google.colab.kernel.accessAllowed ? 'block' : 'none';\n",
              "\n",
              "      async function convertToInteractive(key) {\n",
              "        const element = document.querySelector('#df-72f8a1a2-d90d-45b1-924f-a796adeabd2d');\n",
              "        const dataTable =\n",
              "          await google.colab.kernel.invokeFunction('convertToInteractive',\n",
              "                                                    [key], {});\n",
              "        if (!dataTable) return;\n",
              "\n",
              "        const docLinkHtml = 'Like what you see? Visit the ' +\n",
              "          '<a target=\"_blank\" href=https://colab.research.google.com/notebooks/data_table.ipynb>data table notebook</a>'\n",
              "          + ' to learn more about interactive tables.';\n",
              "        element.innerHTML = '';\n",
              "        dataTable['output_type'] = 'display_data';\n",
              "        await google.colab.output.renderOutput(dataTable, element);\n",
              "        const docLink = document.createElement('div');\n",
              "        docLink.innerHTML = docLinkHtml;\n",
              "        element.appendChild(docLink);\n",
              "      }\n",
              "    </script>\n",
              "  </div>\n",
              "\n",
              "\n",
              "<div id=\"df-8d1fd168-5f9d-4fc4-b989-7e2e0e211455\">\n",
              "  <button class=\"colab-df-quickchart\" onclick=\"quickchart('df-8d1fd168-5f9d-4fc4-b989-7e2e0e211455')\"\n",
              "            title=\"Suggest charts\"\n",
              "            style=\"display:none;\">\n",
              "\n",
              "<svg xmlns=\"http://www.w3.org/2000/svg\" height=\"24px\"viewBox=\"0 0 24 24\"\n",
              "     width=\"24px\">\n",
              "    <g>\n",
              "        <path d=\"M19 3H5c-1.1 0-2 .9-2 2v14c0 1.1.9 2 2 2h14c1.1 0 2-.9 2-2V5c0-1.1-.9-2-2-2zM9 17H7v-7h2v7zm4 0h-2V7h2v10zm4 0h-2v-4h2v4z\"/>\n",
              "    </g>\n",
              "</svg>\n",
              "  </button>\n",
              "\n",
              "<style>\n",
              "  .colab-df-quickchart {\n",
              "      --bg-color: #E8F0FE;\n",
              "      --fill-color: #1967D2;\n",
              "      --hover-bg-color: #E2EBFA;\n",
              "      --hover-fill-color: #174EA6;\n",
              "      --disabled-fill-color: #AAA;\n",
              "      --disabled-bg-color: #DDD;\n",
              "  }\n",
              "\n",
              "  [theme=dark] .colab-df-quickchart {\n",
              "      --bg-color: #3B4455;\n",
              "      --fill-color: #D2E3FC;\n",
              "      --hover-bg-color: #434B5C;\n",
              "      --hover-fill-color: #FFFFFF;\n",
              "      --disabled-bg-color: #3B4455;\n",
              "      --disabled-fill-color: #666;\n",
              "  }\n",
              "\n",
              "  .colab-df-quickchart {\n",
              "    background-color: var(--bg-color);\n",
              "    border: none;\n",
              "    border-radius: 50%;\n",
              "    cursor: pointer;\n",
              "    display: none;\n",
              "    fill: var(--fill-color);\n",
              "    height: 32px;\n",
              "    padding: 0;\n",
              "    width: 32px;\n",
              "  }\n",
              "\n",
              "  .colab-df-quickchart:hover {\n",
              "    background-color: var(--hover-bg-color);\n",
              "    box-shadow: 0 1px 2px rgba(60, 64, 67, 0.3), 0 1px 3px 1px rgba(60, 64, 67, 0.15);\n",
              "    fill: var(--button-hover-fill-color);\n",
              "  }\n",
              "\n",
              "  .colab-df-quickchart-complete:disabled,\n",
              "  .colab-df-quickchart-complete:disabled:hover {\n",
              "    background-color: var(--disabled-bg-color);\n",
              "    fill: var(--disabled-fill-color);\n",
              "    box-shadow: none;\n",
              "  }\n",
              "\n",
              "  .colab-df-spinner {\n",
              "    border: 2px solid var(--fill-color);\n",
              "    border-color: transparent;\n",
              "    border-bottom-color: var(--fill-color);\n",
              "    animation:\n",
              "      spin 1s steps(1) infinite;\n",
              "  }\n",
              "\n",
              "  @keyframes spin {\n",
              "    0% {\n",
              "      border-color: transparent;\n",
              "      border-bottom-color: var(--fill-color);\n",
              "      border-left-color: var(--fill-color);\n",
              "    }\n",
              "    20% {\n",
              "      border-color: transparent;\n",
              "      border-left-color: var(--fill-color);\n",
              "      border-top-color: var(--fill-color);\n",
              "    }\n",
              "    30% {\n",
              "      border-color: transparent;\n",
              "      border-left-color: var(--fill-color);\n",
              "      border-top-color: var(--fill-color);\n",
              "      border-right-color: var(--fill-color);\n",
              "    }\n",
              "    40% {\n",
              "      border-color: transparent;\n",
              "      border-right-color: var(--fill-color);\n",
              "      border-top-color: var(--fill-color);\n",
              "    }\n",
              "    60% {\n",
              "      border-color: transparent;\n",
              "      border-right-color: var(--fill-color);\n",
              "    }\n",
              "    80% {\n",
              "      border-color: transparent;\n",
              "      border-right-color: var(--fill-color);\n",
              "      border-bottom-color: var(--fill-color);\n",
              "    }\n",
              "    90% {\n",
              "      border-color: transparent;\n",
              "      border-bottom-color: var(--fill-color);\n",
              "    }\n",
              "  }\n",
              "</style>\n",
              "\n",
              "  <script>\n",
              "    async function quickchart(key) {\n",
              "      const quickchartButtonEl =\n",
              "        document.querySelector('#' + key + ' button');\n",
              "      quickchartButtonEl.disabled = true;  // To prevent multiple clicks.\n",
              "      quickchartButtonEl.classList.add('colab-df-spinner');\n",
              "      try {\n",
              "        const charts = await google.colab.kernel.invokeFunction(\n",
              "            'suggestCharts', [key], {});\n",
              "      } catch (error) {\n",
              "        console.error('Error during call to suggestCharts:', error);\n",
              "      }\n",
              "      quickchartButtonEl.classList.remove('colab-df-spinner');\n",
              "      quickchartButtonEl.classList.add('colab-df-quickchart-complete');\n",
              "    }\n",
              "    (() => {\n",
              "      let quickchartButtonEl =\n",
              "        document.querySelector('#df-8d1fd168-5f9d-4fc4-b989-7e2e0e211455 button');\n",
              "      quickchartButtonEl.style.display =\n",
              "        google.colab.kernel.accessAllowed ? 'block' : 'none';\n",
              "    })();\n",
              "  </script>\n",
              "</div>\n",
              "\n",
              "    </div>\n",
              "  </div>\n"
            ],
            "application/vnd.google.colaboratory.intrinsic+json": {
              "type": "dataframe",
              "summary": "{\n  \"name\": \"display(data\",\n  \"rows\": 8,\n  \"fields\": [\n    {\n      \"column\": \"track_popularity\",\n      \"properties\": {\n        \"dtype\": \"number\",\n        \"std\": 11593.181787581132,\n        \"min\": 0.0,\n        \"max\": 32833.0,\n        \"num_unique_values\": 8,\n        \"samples\": [\n          42.477080985593766,\n          45.0,\n          32833.0\n        ],\n        \"semantic_type\": \"\",\n        \"description\": \"\"\n      }\n    },\n    {\n      \"column\": \"danceability\",\n      \"properties\": {\n        \"dtype\": \"number\",\n        \"std\": 11608.027612770462,\n        \"min\": 0.0,\n        \"max\": 32833.0,\n        \"num_unique_values\": 8,\n        \"samples\": [\n          0.6548495202996985,\n          0.672,\n          32833.0\n        ],\n        \"semantic_type\": \"\",\n        \"description\": \"\"\n      }\n    },\n    {\n      \"column\": \"energy\",\n      \"properties\": {\n        \"dtype\": \"number\",\n        \"std\": 11608.015351364995,\n        \"min\": 0.000175,\n        \"max\": 32833.0,\n        \"num_unique_values\": 8,\n        \"samples\": [\n          0.6986192707032558,\n          0.721,\n          32833.0\n        ],\n        \"semantic_type\": \"\",\n        \"description\": \"\"\n      }\n    },\n    {\n      \"column\": \"key\",\n      \"properties\": {\n        \"dtype\": \"number\",\n        \"std\": 11606.35093645078,\n        \"min\": 0.0,\n        \"max\": 32833.0,\n        \"num_unique_values\": 8,\n        \"samples\": [\n          5.374470806810222,\n          6.0,\n          32833.0\n        ],\n        \"semantic_type\": \"\",\n        \"description\": \"\"\n      }\n    },\n    {\n      \"column\": \"loudness\",\n      \"properties\": {\n        \"dtype\": \"number\",\n        \"std\": 11611.657578672603,\n        \"min\": -46.448,\n        \"max\": 32833.0,\n        \"num_unique_values\": 8,\n        \"samples\": [\n          -6.719499131970883,\n          -6.166,\n          32833.0\n        ],\n        \"semantic_type\": \"\",\n        \"description\": \"\"\n      }\n    },\n    {\n      \"column\": \"mode\",\n      \"properties\": {\n        \"dtype\": \"number\",\n        \"std\": 11608.013350017749,\n        \"min\": 0.0,\n        \"max\": 32833.0,\n        \"num_unique_values\": 5,\n        \"samples\": [\n          0.5657113270185484,\n          1.0,\n          0.49567076220654116\n        ],\n        \"semantic_type\": \"\",\n        \"description\": \"\"\n      }\n    },\n    {\n      \"column\": \"speechiness\",\n      \"properties\": {\n        \"dtype\": \"number\",\n        \"std\": 11608.149691740915,\n        \"min\": 0.0,\n        \"max\": 32833.0,\n        \"num_unique_values\": 8,\n        \"samples\": [\n          0.10706806871135749,\n          0.0625,\n          32833.0\n        ],\n        \"semantic_type\": \"\",\n        \"description\": \"\"\n      }\n    },\n    {\n      \"column\": \"acousticness\",\n      \"properties\": {\n        \"dtype\": \"number\",\n        \"std\": 11608.130621382983,\n        \"min\": 0.0,\n        \"max\": 32833.0,\n        \"num_unique_values\": 8,\n        \"samples\": [\n          0.1753337150793409,\n          0.0804,\n          32833.0\n        ],\n        \"semantic_type\": \"\",\n        \"description\": \"\"\n      }\n    },\n    {\n      \"column\": \"instrumentalness\",\n      \"properties\": {\n        \"dtype\": \"number\",\n        \"std\": 11608.152423222824,\n        \"min\": 0.0,\n        \"max\": 32833.0,\n        \"num_unique_values\": 7,\n        \"samples\": [\n          32833.0,\n          0.08474716133310999,\n          0.00483\n        ],\n        \"semantic_type\": \"\",\n        \"description\": \"\"\n      }\n    },\n    {\n      \"column\": \"liveness\",\n      \"properties\": {\n        \"dtype\": \"number\",\n        \"std\": 11608.127149916747,\n        \"min\": 0.0,\n        \"max\": 32833.0,\n        \"num_unique_values\": 8,\n        \"samples\": [\n          0.19017619529132274,\n          0.127,\n          32833.0\n        ],\n        \"semantic_type\": \"\",\n        \"description\": \"\"\n      }\n    },\n    {\n      \"column\": \"valence\",\n      \"properties\": {\n        \"dtype\": \"number\",\n        \"std\": 11608.05328152195,\n        \"min\": 0.0,\n        \"max\": 32833.0,\n        \"num_unique_values\": 8,\n        \"samples\": [\n          0.5105609737154692,\n          0.512,\n          32833.0\n        ],\n        \"semantic_type\": \"\",\n        \"description\": \"\"\n      }\n    },\n    {\n      \"column\": \"tempo\",\n      \"properties\": {\n        \"dtype\": \"number\",\n        \"std\": 11570.912807965085,\n        \"min\": 0.0,\n        \"max\": 32833.0,\n        \"num_unique_values\": 8,\n        \"samples\": [\n          120.88113154448268,\n          121.984,\n          32833.0\n        ],\n        \"semantic_type\": \"\",\n        \"description\": \"\"\n      }\n    },\n    {\n      \"column\": \"duration_ms\",\n      \"properties\": {\n        \"dtype\": \"number\",\n        \"std\": 164596.1356937415,\n        \"min\": 4000.0,\n        \"max\": 517810.0,\n        \"num_unique_values\": 8,\n        \"samples\": [\n          225799.811622453,\n          216000.0,\n          32833.0\n        ],\n        \"semantic_type\": \"\",\n        \"description\": \"\"\n      }\n    }\n  ]\n}"
            }
          },
          "metadata": {}
        }
      ]
    },
    {
      "cell_type": "markdown",
      "source": [
        "**Menampilkan berapa jumlah variabel dalam dataset**\n"
      ],
      "metadata": {
        "id": "zbtGYSrnJKXC"
      }
    },
    {
      "cell_type": "code",
      "source": [
        "# Menghitung jumlah kolom pada dataset\n",
        "jumlah_variabel = len(data.columns)\n",
        "print(f\"Jumlah variabel dalam dataset adalah {jumlah_variabel}.\")\n",
        "print(\"Nama-nama kolom dalam dataset:\")\n",
        "print(data.columns.tolist())\n"
      ],
      "metadata": {
        "colab": {
          "base_uri": "https://localhost:8080/"
        },
        "id": "iMp-_g3tI0dk",
        "outputId": "0fa23dd2-e7f0-4a44-ab50-c5f08528cbff"
      },
      "execution_count": 9,
      "outputs": [
        {
          "output_type": "stream",
          "name": "stdout",
          "text": [
            "Jumlah variabel dalam dataset adalah 23.\n",
            "Nama-nama kolom dalam dataset:\n",
            "['track_id', 'track_name', 'track_artist', 'track_popularity', 'track_album_id', 'track_album_name', 'track_album_release_date', 'playlist_name', 'playlist_id', 'playlist_genre', 'playlist_subgenre', 'danceability', 'energy', 'key', 'loudness', 'mode', 'speechiness', 'acousticness', 'instrumentalness', 'liveness', 'valence', 'tempo', 'duration_ms']\n"
          ]
        }
      ]
    },
    {
      "cell_type": "markdown",
      "source": [
        "**Melihat data kosong pada setiap kolom**"
      ],
      "metadata": {
        "id": "AAERz4yZOGyg"
      }
    },
    {
      "cell_type": "code",
      "source": [
        "print(\"\\nJumlah Nilai Kosong per Kolom (Sebelum Penanganan):\")\n",
        "print(data.isnull().sum())\n"
      ],
      "metadata": {
        "colab": {
          "base_uri": "https://localhost:8080/"
        },
        "id": "4F0wuaki68ke",
        "outputId": "bca64974-f621-491c-b7fa-527754a7eca4"
      },
      "execution_count": 10,
      "outputs": [
        {
          "output_type": "stream",
          "name": "stdout",
          "text": [
            "\n",
            "Jumlah Nilai Kosong per Kolom (Sebelum Penanganan):\n",
            "track_id                    0\n",
            "track_name                  5\n",
            "track_artist                5\n",
            "track_popularity            0\n",
            "track_album_id              0\n",
            "track_album_name            5\n",
            "track_album_release_date    0\n",
            "playlist_name               0\n",
            "playlist_id                 0\n",
            "playlist_genre              0\n",
            "playlist_subgenre           0\n",
            "danceability                0\n",
            "energy                      0\n",
            "key                         0\n",
            "loudness                    0\n",
            "mode                        0\n",
            "speechiness                 0\n",
            "acousticness                0\n",
            "instrumentalness            0\n",
            "liveness                    0\n",
            "valence                     0\n",
            "tempo                       0\n",
            "duration_ms                 0\n",
            "dtype: int64\n"
          ]
        }
      ]
    },
    {
      "cell_type": "code",
      "source": [
        "data = data.dropna(axis=1, how=\"all\")  # Menghapus kolom yang seluruhnya kosong\n",
        "data = data.dropna(axis=0, how=\"any\")  # Menghapus baris yang memiliki nilai kosong"
      ],
      "metadata": {
        "id": "ju-nnVIT7RBw"
      },
      "execution_count": 11,
      "outputs": []
    },
    {
      "cell_type": "code",
      "source": [
        "print(\"\\nJumlah Nilai Kosong per Kolom (Setelah Penanganan):\")\n",
        "print(data.isnull().sum())"
      ],
      "metadata": {
        "colab": {
          "base_uri": "https://localhost:8080/"
        },
        "id": "41T51beq7T7Y",
        "outputId": "d343d660-a77a-4757-d0bd-9a2e391f3b24"
      },
      "execution_count": 12,
      "outputs": [
        {
          "output_type": "stream",
          "name": "stdout",
          "text": [
            "\n",
            "Jumlah Nilai Kosong per Kolom (Setelah Penanganan):\n",
            "track_id                    0\n",
            "track_name                  0\n",
            "track_artist                0\n",
            "track_popularity            0\n",
            "track_album_id              0\n",
            "track_album_name            0\n",
            "track_album_release_date    0\n",
            "playlist_name               0\n",
            "playlist_id                 0\n",
            "playlist_genre              0\n",
            "playlist_subgenre           0\n",
            "danceability                0\n",
            "energy                      0\n",
            "key                         0\n",
            "loudness                    0\n",
            "mode                        0\n",
            "speechiness                 0\n",
            "acousticness                0\n",
            "instrumentalness            0\n",
            "liveness                    0\n",
            "valence                     0\n",
            "tempo                       0\n",
            "duration_ms                 0\n",
            "dtype: int64\n"
          ]
        }
      ]
    },
    {
      "cell_type": "markdown",
      "source": [
        "**Mengganti nilai data numerik yang kosong dengan nilai median**"
      ],
      "metadata": {
        "id": "ZF-hVPuMbBah"
      }
    },
    {
      "cell_type": "code",
      "source": [
        "numeric_columns = data.select_dtypes(include=[np.number]).columns\n",
        "for col in numeric_columns:\n",
        "    median_value = data[col].median()\n",
        "    data[col].fillna(median_value, inplace=True)"
      ],
      "metadata": {
        "colab": {
          "base_uri": "https://localhost:8080/"
        },
        "id": "R2vDmaCVD2XI",
        "outputId": "a626e26a-1f0d-41fe-a412-771b1479e103"
      },
      "execution_count": 13,
      "outputs": [
        {
          "output_type": "stream",
          "name": "stderr",
          "text": [
            "<ipython-input-13-40730a238bc8>:4: FutureWarning: A value is trying to be set on a copy of a DataFrame or Series through chained assignment using an inplace method.\n",
            "The behavior will change in pandas 3.0. This inplace method will never work because the intermediate object on which we are setting values always behaves as a copy.\n",
            "\n",
            "For example, when doing 'df[col].method(value, inplace=True)', try using 'df.method({col: value}, inplace=True)' or df[col] = df[col].method(value) instead, to perform the operation inplace on the original object.\n",
            "\n",
            "\n",
            "  data[col].fillna(median_value, inplace=True)\n"
          ]
        }
      ]
    },
    {
      "cell_type": "code",
      "source": [
        "# Menghapus kolom yang tidak diperlukan\n",
        "data = data.drop(['playlist_subgenre'], axis=1)"
      ],
      "metadata": {
        "id": "SQ0ktyVZKEbs"
      },
      "execution_count": 14,
      "outputs": []
    },
    {
      "cell_type": "code",
      "source": [
        "# Memeriksa duplikasi\n",
        "duplicates = data.duplicated().sum()\n",
        "print(f\"Jumlah duplikasi: {duplicates}\")\n",
        "\n",
        "# Menghapus duplikasi\n",
        "data = data.drop_duplicates()\n"
      ],
      "metadata": {
        "colab": {
          "base_uri": "https://localhost:8080/"
        },
        "id": "26dyNEDlKHQR",
        "outputId": "4f42586b-2573-4df4-810e-b1928c26c2ad"
      },
      "execution_count": 15,
      "outputs": [
        {
          "output_type": "stream",
          "name": "stdout",
          "text": [
            "Jumlah duplikasi: 323\n"
          ]
        }
      ]
    },
    {
      "cell_type": "code",
      "source": [
        "# Memastikan tidak ada nilai hilang setelah imputasi\n",
        "print(\"Jumlah nilai hilang setelah pembersihan dan imputasi:\")\n",
        "print(data.isnull().sum())\n"
      ],
      "metadata": {
        "colab": {
          "base_uri": "https://localhost:8080/"
        },
        "id": "5ULszxADKNOQ",
        "outputId": "41d20bef-be9b-4034-ad32-f124e1e318f4"
      },
      "execution_count": 16,
      "outputs": [
        {
          "output_type": "stream",
          "name": "stdout",
          "text": [
            "Jumlah nilai hilang setelah pembersihan dan imputasi:\n",
            "track_id                    0\n",
            "track_name                  0\n",
            "track_artist                0\n",
            "track_popularity            0\n",
            "track_album_id              0\n",
            "track_album_name            0\n",
            "track_album_release_date    0\n",
            "playlist_name               0\n",
            "playlist_id                 0\n",
            "playlist_genre              0\n",
            "danceability                0\n",
            "energy                      0\n",
            "key                         0\n",
            "loudness                    0\n",
            "mode                        0\n",
            "speechiness                 0\n",
            "acousticness                0\n",
            "instrumentalness            0\n",
            "liveness                    0\n",
            "valence                     0\n",
            "tempo                       0\n",
            "duration_ms                 0\n",
            "dtype: int64\n"
          ]
        }
      ]
    },
    {
      "cell_type": "markdown",
      "source": [
        "#Eksplorasi dan Analisa Data"
      ],
      "metadata": {
        "id": "vdMj9JgddDZZ"
      }
    },
    {
      "cell_type": "markdown",
      "source": [
        "**Pembuatan Variabel Baru**"
      ],
      "metadata": {
        "id": "GZUThss4gmHt"
      }
    },
    {
      "cell_type": "code",
      "source": [
        "# Membuat Variabel Baru: Tingkat Popularitas\n",
        "bins = [0, 30, 70, 100]\n",
        "labels = ['Low', 'Medium', 'High']\n",
        "data['popularity_level'] = pd.cut(data['track_popularity'], bins=bins, labels=labels)"
      ],
      "metadata": {
        "id": "KzGGN36MdF7i"
      },
      "execution_count": 17,
      "outputs": []
    },
    {
      "cell_type": "code",
      "source": [
        "# Menampilkan persebaran tingkat popularitas\n",
        "popularity_distribution = data['popularity_level'].value_counts()\n",
        "\n",
        "print(\"Persebaran Tingkat Popularitas:\")\n",
        "print(popularity_distribution)"
      ],
      "metadata": {
        "colab": {
          "base_uri": "https://localhost:8080/"
        },
        "id": "wVpD-g5Ddt-b",
        "outputId": "a1dc0800-bc33-4ce7-afaa-a999410c5b8e"
      },
      "execution_count": 18,
      "outputs": [
        {
          "output_type": "stream",
          "name": "stdout",
          "text": [
            "Persebaran Tingkat Popularitas:\n",
            "popularity_level\n",
            "Medium    18295\n",
            "Low        7237\n",
            "High       4328\n",
            "Name: count, dtype: int64\n"
          ]
        }
      ]
    },
    {
      "cell_type": "code",
      "source": [
        "# Menghitung rata-rata popularitas berdasarkan genre\n",
        "genre_popularity = data.groupby('playlist_genre')['track_popularity'].mean().reset_index()\n",
        "\n",
        "# Mengubah nama kolom\n",
        "genre_popularity.columns = ['Genre', 'Avg_Popularity']\n",
        "\n",
        "# Menampilkan hasil\n",
        "print(\"Rata-rata Popularitas Berdasarkan Genre:\")\n",
        "print(genre_popularity)\n"
      ],
      "metadata": {
        "colab": {
          "base_uri": "https://localhost:8080/"
        },
        "id": "7FBdmGsdd3yA",
        "outputId": "f98ed2f8-042d-4b74-c411-c9aec70be5d9"
      },
      "execution_count": 19,
      "outputs": [
        {
          "output_type": "stream",
          "name": "stdout",
          "text": [
            "Rata-rata Popularitas Berdasarkan Genre:\n",
            "   Genre  Avg_Popularity\n",
            "0    edm       35.036955\n",
            "1  latin       46.359953\n",
            "2    pop       47.744870\n",
            "3    r&b       41.223532\n",
            "4    rap       43.238029\n",
            "5   rock       41.971845\n"
          ]
        }
      ]
    },
    {
      "cell_type": "code",
      "source": [
        "# Menambahkan kolom release_year dari track_album_release_date\n",
        "data['release_year'] = pd.to_datetime(\n",
        "    data['track_album_release_date'], errors='coerce', format='%Y-%m-%d'\n",
        ").dt.year\n",
        "\n",
        "# Menangani kasus di mana hanya tahun yang ada menggunakan lambda function\n",
        "data['release_year'] = data['release_year'].fillna(\n",
        "    data['track_album_release_date'].apply(lambda x: int(x) if x.isdigit() and len(x) == 4 else np.nan)\n",
        ")\n",
        "\n",
        "# Mengonversi kolom release_year ke tipe integer (opsional untuk konsistensi)\n",
        "data['release_year'] = data['release_year'].astype(int, errors='ignore')\n",
        "\n",
        "# Menampilkan hasil kolom release_year\n",
        "print(\"Hasil kolom 'release_year':\")\n",
        "print(data[['track_album_release_date', 'release_year']].head())\n"
      ],
      "metadata": {
        "colab": {
          "base_uri": "https://localhost:8080/"
        },
        "id": "gYWL7hB9d__s",
        "outputId": "371ca963-6c6b-4d7d-8fae-1e5049777094"
      },
      "execution_count": 20,
      "outputs": [
        {
          "output_type": "stream",
          "name": "stdout",
          "text": [
            "Hasil kolom 'release_year':\n",
            "  track_album_release_date  release_year\n",
            "0               2019-06-14        2019.0\n",
            "1               2019-12-13        2019.0\n",
            "2               2019-07-05        2019.0\n",
            "3               2019-07-19        2019.0\n",
            "4               2019-03-05        2019.0\n"
          ]
        }
      ]
    },
    {
      "cell_type": "markdown",
      "source": [
        "**Rata Rata Popularitas Berdasarkan Genre**"
      ],
      "metadata": {
        "id": "tGlEfNmtguod"
      }
    },
    {
      "cell_type": "code",
      "source": [
        "plt.figure(figsize=(10, 6))\n",
        "sns.barplot(data=genre_popularity, x='Genre', y='Avg_Popularity', palette='viridis')\n",
        "plt.title('Average Popularity by Genre', fontsize=16)\n",
        "plt.xlabel('Genre', fontsize=12)\n",
        "plt.ylabel('Average Popularity', fontsize=12)\n",
        "plt.xticks(rotation=45)\n",
        "plt.tight_layout()\n",
        "plt.show()"
      ],
      "metadata": {
        "colab": {
          "base_uri": "https://localhost:8080/",
          "height": 694
        },
        "id": "1SqV8UUxelXk",
        "outputId": "8c2b8f28-b03a-4d2d-9f71-e19786daf6b7"
      },
      "execution_count": 21,
      "outputs": [
        {
          "output_type": "stream",
          "name": "stderr",
          "text": [
            "<ipython-input-21-46ebb3936f1a>:2: FutureWarning: \n",
            "\n",
            "Passing `palette` without assigning `hue` is deprecated and will be removed in v0.14.0. Assign the `x` variable to `hue` and set `legend=False` for the same effect.\n",
            "\n",
            "  sns.barplot(data=genre_popularity, x='Genre', y='Avg_Popularity', palette='viridis')\n"
          ]
        },
        {
          "output_type": "display_data",
          "data": {
            "text/plain": [
              "<Figure size 1000x600 with 1 Axes>"
            ],
            "image/png": "[encoded data removed]"
          },
          "metadata": {}
        }
      ]
    },
    {
      "cell_type": "markdown",
      "source": [
        "**Tren Popularitas Berdasarkan Tahun**"
      ],
      "metadata": {
        "id": "Wu2zGLXEg1hO"
      }
    },
    {
      "cell_type": "code",
      "source": [
        "# Calculate yearly popularity before plotting\n",
        "yearly_popularity = data.groupby('release_year')['track_popularity'].mean().reset_index()\n",
        "\n",
        "\n",
        "plt.figure(figsize=(10, 6))\n",
        "sns.lineplot(data=yearly_popularity, x='release_year', y='track_popularity', marker='o', color='b')\n",
        "plt.title('Average Popularity Over Years', fontsize=16)\n",
        "plt.xlabel('Release Year', fontsize=12)\n",
        "plt.ylabel('Average Popularity', fontsize=12)\n",
        "plt.grid(True)\n",
        "plt.tight_layout()\n",
        "plt.show()"
      ],
      "metadata": {
        "colab": {
          "base_uri": "https://localhost:8080/",
          "height": 607
        },
        "id": "YHyEinADeo5-",
        "outputId": "be56b314-79df-4ab6-ae97-f92595fec221"
      },
      "execution_count": 22,
      "outputs": [
        {
          "output_type": "display_data",
          "data": {
            "text/plain": [
              "<Figure size 1000x600 with 1 Axes>"
            ],
            "image/png": "[encoded data removed]"
          },
          "metadata": {}
        }
      ]
    },
    {
      "cell_type": "markdown",
      "source": [
        "Analisis Antar Variabel:Track Popularity dan Playlist Genre"
      ],
      "metadata": {
        "id": "XPin059J-XNM"
      }
    },
    {
      "cell_type": "code",
      "source": [
        "genre_popularity_stats = data.groupby('playlist_genre')['track_popularity'].agg(['mean', 'median', 'min', 'max', 'count']).reset_index()\n",
        "genre_popularity_stats.columns = ['Genre', 'Avg_Popularity', 'Median_Popularity', 'Min_Popularity', 'Max_Popularity', 'Song_Count']\n",
        "\n",
        "# Menampilkan hasil statistik deskriptif\n",
        "print(\"Statistik Deskriptif Popularitas Berdasarkan Genre:\")\n",
        "print(genre_popularity_stats)\n"
      ],
      "metadata": {
        "colab": {
          "base_uri": "https://localhost:8080/"
        },
        "id": "Ob0dcHJS-Wdu",
        "outputId": "955228e5-d380-48e4-8675-362388aa81ba"
      },
      "execution_count": 23,
      "outputs": [
        {
          "output_type": "stream",
          "name": "stdout",
          "text": [
            "Statistik Deskriptif Popularitas Berdasarkan Genre:\n",
            "   Genre  Avg_Popularity  Median_Popularity  Min_Popularity  Max_Popularity  \\\n",
            "0    edm       35.036955               36.0               0              99   \n",
            "1  latin       46.359953               50.0               0             100   \n",
            "2    pop       47.744870               52.0               0             100   \n",
            "3    r&b       41.223532               44.0               0              99   \n",
            "4    rap       43.238029               47.0               0              98   \n",
            "5   rock       41.971845               47.0               0              95   \n",
            "\n",
            "   Song_Count  \n",
            "0        5899  \n",
            "1        5059  \n",
            "2        5507  \n",
            "3        5431  \n",
            "4        5743  \n",
            "5        4866  \n"
          ]
        }
      ]
    },
    {
      "cell_type": "code",
      "source": [
        "plt.figure(figsize=(12, 8))\n",
        "sns.boxplot(data=data, x='playlist_genre', y='track_popularity', palette='Set3')\n",
        "plt.title('Distribution of Track Popularity by Genre', fontsize=16)\n",
        "plt.xlabel('Genre', fontsize=12)\n",
        "plt.ylabel('Track Popularity', fontsize=12)\n",
        "plt.xticks(rotation=45)\n",
        "plt.tight_layout()\n",
        "plt.show()\n"
      ],
      "metadata": {
        "colab": {
          "base_uri": "https://localhost:8080/",
          "height": 894
        },
        "id": "eysOHVyT-hBD",
        "outputId": "d25bfc10-f985-4226-d5a8-e7f0df17744d"
      },
      "execution_count": 24,
      "outputs": [
        {
          "output_type": "stream",
          "name": "stderr",
          "text": [
            "<ipython-input-24-b8df5e58be11>:2: FutureWarning: \n",
            "\n",
            "Passing `palette` without assigning `hue` is deprecated and will be removed in v0.14.0. Assign the `x` variable to `hue` and set `legend=False` for the same effect.\n",
            "\n",
            "  sns.boxplot(data=data, x='playlist_genre', y='track_popularity', palette='Set3')\n"
          ]
        },
        {
          "output_type": "display_data",
          "data": {
            "text/plain": [
              "<Figure size 1200x800 with 1 Axes>"
            ],
            "image/png": "[encoded data removed]"
          },
          "metadata": {}
        }
      ]
    },
    {
      "cell_type": "code",
      "source": [
        "from scipy.stats import f_oneway\n",
        "\n",
        "# ANOVA untuk popularitas berdasarkan genre\n",
        "anova_result = f_oneway(*[data.loc[data['playlist_genre'] == genre, 'track_popularity'] for genre in data['playlist_genre'].unique()])\n",
        "print(f\"ANOVA Result: F-Statistic = {anova_result.statistic}, p-value = {anova_result.pvalue}\")\n",
        "\n",
        "if anova_result.pvalue < 0.05:\n",
        "    print(\"Hasilnya signifikan: Genre memiliki pengaruh terhadap popularitas.\")\n",
        "else:\n",
        "    print(\"Hasilnya tidak signifikan: Genre tidak memiliki pengaruh signifikan terhadap popularitas.\")\n"
      ],
      "metadata": {
        "colab": {
          "base_uri": "https://localhost:8080/"
        },
        "id": "8SmxFDXy-jj1",
        "outputId": "994ff71c-a54c-4bdf-f482-154edd421712"
      },
      "execution_count": 25,
      "outputs": [
        {
          "output_type": "stream",
          "name": "stdout",
          "text": [
            "ANOVA Result: F-Statistic = 188.95448575947967, p-value = 4.378142964389742e-199\n",
            "Hasilnya signifikan: Genre memiliki pengaruh terhadap popularitas.\n"
          ]
        }
      ]
    },
    {
      "cell_type": "markdown",
      "source": [
        "Durasi Rata-rata dan Popularitas Berdasarkan Genre"
      ],
      "metadata": {
        "id": "bHNTqKdj_V6p"
      }
    },
    {
      "cell_type": "code",
      "source": [
        "# Menghitung rata-rata durasi dan popularitas per genre\n",
        "genre_duration_popularity = data.groupby('playlist_genre').agg(\n",
        "    Avg_Duration=('duration_ms', 'mean'),\n",
        "    Avg_Popularity=('track_popularity', 'mean')\n",
        ").reset_index()\n",
        "\n",
        "# Plot bar plot untuk popularitas rata-rata berdasarkan genre\n",
        "plt.figure(figsize=(12, 8))\n",
        "sns.barplot(data=genre_duration_popularity, x='playlist_genre', y='Avg_Popularity', palette='viridis')\n",
        "plt.title('Average Popularity by Genre', fontsize=16)\n",
        "plt.xlabel('Genre', fontsize=12)\n",
        "plt.ylabel('Average Popularity', fontsize=12)\n",
        "plt.xticks(rotation=45)\n",
        "plt.tight_layout()\n",
        "plt.show()\n",
        "\n",
        "# Plot bar plot untuk durasi rata-rata berdasarkan genre\n",
        "plt.figure(figsize=(12, 8))\n",
        "sns.barplot(data=genre_duration_popularity, x='playlist_genre', y='Avg_Duration', palette='magma')\n",
        "plt.title('Average Duration by Genre', fontsize=16)\n",
        "plt.xlabel('Genre', fontsize=12)\n",
        "plt.ylabel('Average Duration (ms)', fontsize=12)\n",
        "plt.xticks(rotation=45)\n",
        "plt.tight_layout()\n",
        "plt.show()\n"
      ],
      "metadata": {
        "colab": {
          "base_uri": "https://localhost:8080/",
          "height": 1000
        },
        "id": "thxEY25l-8JO",
        "outputId": "8a38a3fd-ce5b-483e-89c8-d675b7ed2d33"
      },
      "execution_count": 26,
      "outputs": [
        {
          "output_type": "stream",
          "name": "stderr",
          "text": [
            "<ipython-input-26-4653096d0049>:9: FutureWarning: \n",
            "\n",
            "Passing `palette` without assigning `hue` is deprecated and will be removed in v0.14.0. Assign the `x` variable to `hue` and set `legend=False` for the same effect.\n",
            "\n",
            "  sns.barplot(data=genre_duration_popularity, x='playlist_genre', y='Avg_Popularity', palette='viridis')\n"
          ]
        },
        {
          "output_type": "display_data",
          "data": {
            "text/plain": [
              "<Figure size 1200x800 with 1 Axes>"
            ],
            "image/png": "[encoded data removed]"
          },
          "metadata": {}
        },
        {
          "output_type": "stream",
          "name": "stderr",
          "text": [
            "<ipython-input-26-4653096d0049>:19: FutureWarning: \n",
            "\n",
            "Passing `palette` without assigning `hue` is deprecated and will be removed in v0.14.0. Assign the `x` variable to `hue` and set `legend=False` for the same effect.\n",
            "\n",
            "  sns.barplot(data=genre_duration_popularity, x='playlist_genre', y='Avg_Duration', palette='magma')\n"
          ]
        },
        {
          "output_type": "display_data",
          "data": {
            "text/plain": [
              "<Figure size 1200x800 with 1 Axes>"
            ],
            "image/png": "[encoded data removed]"
          },
          "metadata": {}
        }
      ]
    },
    {
      "cell_type": "code",
      "source": [
        "# Simpan dataset bersih ke file CSV baru\n",
        "cleaned_file_path = \"spotify_cleaned.csv\"  # Anda dapat mengganti nama file sesuai keinginan\n",
        "data.to_csv(cleaned_file_path, index=False)  # Menyimpan tanpa kolom index\n",
        "print(f\"Dataset bersih telah disimpan ke file: {cleaned_file_path}\")\n"
      ],
      "metadata": {
        "colab": {
          "base_uri": "https://localhost:8080/"
        },
        "id": "HHmi_9Sq_fDM",
        "outputId": "1efa090a-e7ef-4991-c556-615299daf0b9"
      },
      "execution_count": 27,
      "outputs": [
        {
          "output_type": "stream",
          "name": "stdout",
          "text": [
            "Dataset bersih telah disimpan ke file: spotify_cleaned.csv\n"
          ]
        }
      ]
    },
    {
      "cell_type": "markdown",
      "source": [
        "#Rangkuman"
      ],
      "metadata": {
        "id": "ZKe4zdK9g9ar"
      }
    },
    {
      "cell_type": "markdown",
      "source": [
        "**1. Pernyataan Masalah yang Dibahas**\n",
        "\n",
        "Kami mengeksplorasi dataset Spotify untuk memahami tren musik populer berdasarkan genre, tingkat popularitas lagu, dan tahun rilis. Tujuannya adalah menemukan pola yang relevan yang dapat memberikan wawasan kepada pengelola playlist, musisi, atau konsumen tentang preferensi musik berdasarkan data historis.\n",
        "\n",
        "**2. Metodologi yang Digunakan**\n",
        "\n",
        "Data yang digunakan adalah dataset Spotify yang mencakup informasi seperti nama lagu, artis, genre playlist, popularitas lagu, dan tanggal rilis album. Beberapa langkah yang dilakukan:\n",
        "\n",
        "  Pengimporan & Pembersihan Data: Mengimputasi data kosong, mengonversi tipe data, dan membuat kolom baru seperti popularity_level dan release_year.\n",
        "  Analisis Deskriptif: Menganalisis persebaran data dengan statistik deskriptif dan visualisasi.\n",
        "  Pemrosesan Data Baru: Mengelompokkan data berdasarkan genre, popularitas, dan tahun rilis untuk menemukan informasi baru.\n",
        "  Visualisasi: Menggunakan grafik untuk menyoroti pola utama.\n",
        "\n",
        "**3. Wawasan Menarik**\n",
        "\n",
        "Popularitas Berdasarkan Genre: Genre tertentu seperti \"Pop\" cenderung memiliki tingkat popularitas rata-rata yang lebih tinggi dibandingkan genre lain.\n",
        "Tren Popularitas Berdasarkan Tahun Rilis: Lagu-lagu yang dirilis lebih baru cenderung lebih populer dibandingkan lagu yang lebih lama.\n",
        "Distribusi Popularitas: Lagu-lagu cenderung memiliki tingkat popularitas \"Medium\" dengan distribusi yang tidak merata di berbagai genre.\n",
        "Korelasi Fitur Musik dengan Popularitas: Fitur seperti danceability dan energy berkontribusi terhadap tingkat popularitas lagu.\n",
        "\n",
        "**4. Implikasi terhadap Konsumen**\n",
        "Pengelola Playlist: Dapat menyusun daftar putar dengan lebih terarah menggunakan informasi popularitas berdasarkan genre dan tahun rilis.\n",
        "Musisi: Bisa memahami tren popularitas untuk mengarahkan produksi musik mereka.\n",
        "Pendengar: Membantu mereka menemukan musik berdasarkan popularitas dan preferensi genre mereka.\n",
        "\n",
        "**5. Keterbatasan Analisis**\n",
        "\n",
        "Keterbatasan Data: Dataset hanya mencakup lagu-lagu tertentu sehingga tidak representatif untuk keseluruhan musik di Spotify.\n",
        "Fokus Popularitas: Popularitas lagu dapat dipengaruhi oleh promosi atau regional, yang tidak diuraikan dalam data.\n",
        "Penanganan Nilai Hilang: Mengimputasi nilai kosong dengan rata-rata atau median mungkin tidak mencerminkan nilai sebenarnya.\n",
        "\n",
        "**6. Saran Peningkatan**\n",
        "\n",
        "Memperkaya dataset dengan informasi tambahan seperti wilayah pendengar atau strategi promosi.\n",
        "Menggunakan algoritma pembelajaran mesin untuk menemukan pola kompleks.\n",
        "Membandingkan data ini dengan platform streaming lain untuk wawasan yang lebih luas.\n",
        "Melibatkan analisis sentimen dari lirik untuk memahami dampaknya terhadap popularitas."
      ],
      "metadata": {
        "id": "EOWvC9L8fJpN"
      }
    },
    {
      "cell_type": "code",
      "source": [
        "!pip freeze > requirements.txt"
      ],
      "metadata": {
        "id": "JKdrWVwEBecl"
      },
      "execution_count": 28,
      "outputs": []
    }
  ]
}